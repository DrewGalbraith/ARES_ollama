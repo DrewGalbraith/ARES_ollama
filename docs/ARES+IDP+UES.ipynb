{
 "cells": [
  {
   "cell_type": "markdown",
   "metadata": {},
   "source": [
    "<h1><center>ARES IDP + UES</center></h1>"
   ]
  },
  {
   "cell_type": "code",
   "execution_count": 1,
   "metadata": {},
   "outputs": [],
   "source": [
    "from ares import ARES\n",
    "\n",
    "ues_idp_config = {\n",
    "    \"in_domain_prompts_dataset\": \"./datasets/multirc_few_shot_prompt_for_synthetic_query_generation_v1.tsv\",\n",
    "    \"unlabeled_evaluation_set\": \"./datasets_v2/nq/ratio_0.5_reformatted_full_articles_False_validation_with_negatives.tsv\"\n",
    "}"
   ]
  },
  {
   "cell_type": "code",
   "execution_count": 2,
   "metadata": {},
   "outputs": [
    {
     "name": "stdout",
     "output_type": "stream",
     "text": [
      "{'Context Relevance Scores': 0.21, 'Answer Faithfulness Scores': 0.003, 'Answer Relevance Scores': 0.002}\n"
     ]
    }
   ],
   "source": [
    "ares = ARES(ues_idp=ues_idp_config)\n",
    "results = ares.ues_idp()\n",
    "print(results)"
   ]
  }
 ],
 "metadata": {
  "kernelspec": {
   "display_name": "llm_judge",
   "language": "python",
   "name": "python3"
  },
  "language_info": {
   "codemirror_mode": {
    "name": "ipython",
    "version": 3
   },
   "file_extension": ".py",
   "mimetype": "text/x-python",
   "name": "python",
   "nbconvert_exporter": "python",
   "pygments_lexer": "ipython3",
   "version": "3.1.0"
  }
 },
 "nbformat": 4,
 "nbformat_minor": 2
}
