{
 "cells": [
  {
   "cell_type": "markdown",
   "metadata": {},
   "source": [
    " ###  Configure OPEN_API_KEY\n"
   ]
  },
  {
   "cell_type": "code",
   "execution_count": 1,
   "metadata": {},
   "outputs": [
    {
     "name": "stdout",
     "output_type": "stream",
     "text": [
      "env: OPENAI_API_KEY=<OpenAI Key>\n"
     ]
    }
   ],
   "source": [
    "#Declare OPENAI_KEY using export OPENAI_API_KEY=<key here> in terminal, and in code, %env as shown below.\n",
    "\n",
    "%env OPENAI_API_KEY=<OpenAI Key>"
   ]
  },
  {
   "cell_type": "markdown",
   "metadata": {},
   "source": [
    "### Configure GPUs"
   ]
  },
  {
   "cell_type": "code",
   "execution_count": 7,
   "metadata": {},
   "outputs": [
    {
     "name": "stdout",
     "output_type": "stream",
     "text": [
      "env: CUDA_DEVICE_ORDER=PCI_BUS_ID\n",
      "env: CUDA_VISIBLE_DEVICES=6\n"
     ]
    }
   ],
   "source": [
    "%env CUDA_DEVICE_ORDER=PCI_BUS_ID\n",
    "%env CUDA_VISIBLE_DEVICES=6"
   ]
  },
  {
   "cell_type": "code",
   "execution_count": 5,
   "metadata": {},
   "outputs": [],
   "source": [
    "import os\n",
    "os.environ[\"CUDA_DEVICE_ORDER\"]=\"PCI_BUS_ID\"\n",
    "os.environ[\"CUDA_VISIBLE_DEVICES\"]=\"6\""
   ]
  },
  {
   "cell_type": "markdown",
   "metadata": {},
   "source": [
    "### Obtain Hugging Face NQ Dataset"
   ]
  },
  {
   "cell_type": "code",
   "execution_count": null,
   "metadata": {},
   "outputs": [],
   "source": [
    "#%python Prepare_KILT_Dataset"
   ]
  },
  {
   "cell_type": "markdown",
   "metadata": {},
   "source": [
    "### Unlabeled Data Set | In Domain Prompts Pipeline"
   ]
  },
  {
   "cell_type": "code",
   "execution_count": 3,
   "metadata": {},
   "outputs": [
    {
     "name": "stdout",
     "output_type": "stream",
     "text": [
      "Skipping synthetic generator configuration due to no parameters.\n",
      "Skipping binary classifier configuration due to no parameters.\n",
      "Skipping RAG evaluation configuration due to no parameters\n",
      "DataFrame columns: ['id', 'input', 'meta', 'output', 'wikipedia_id', 'Document', 'paragraph_number', 'Answer', 'Query', 'Context_Relevance_Label', 'Answer_Faithfulness_Label', 'Answer_Relevance_Label']\n",
      "{'Context Relevance Scores': 0.24, 'Answer Faithfulness Scores': 0.003, 'Answer Relevance Scores': 0.002}\n"
     ]
    }
   ],
   "source": [
    "# Dataset: https://huggingface.co/datasets/kilt_tasks/viewer/nq\n",
    "\n",
    "from ARES.ares.ares import ARES\n",
    "\n",
    "ues_idp_config = {\n",
    "    \"in_domain_prompts_dataset\": \"datasets/multirc_few_shot_prompt_for_synthetic_query_generation_v1.tsv\",\n",
    "    \"unlabeled_evaluation_set\": \"datasets_v2/nq/ratio_0.5_reformatted_full_articles_False_validation_with_negatives.tsv\"\n",
    "}\n",
    "\n",
    "ares = ARES(ues_idp=ues_idp_config)\n",
    "results = ares.run()\n",
    "print(results)"
   ]
  },
  {
   "cell_type": "markdown",
   "metadata": {},
   "source": [
    "### Synthetic Data Generation"
   ]
  },
  {
   "cell_type": "code",
   "execution_count": 3,
   "metadata": {},
   "outputs": [
    {
     "data": {
      "application/vnd.jupyter.widget-view+json": {
       "model_id": "7e16a67c4d6449b7898c3f21999ed073",
       "version_major": 2,
       "version_minor": 0
      },
      "text/plain": [
       "Loading checkpoint shards:   0%|          | 0/5 [00:00<?, ?it/s]"
      ]
     },
     "metadata": {},
     "output_type": "display_data"
    },
    {
     "name": "stdout",
     "output_type": "stream",
     "text": [
      "documents\n",
      "100\n",
      "                       id                                          input  \\\n",
      "5047 -7565739765702854010    who played little ricky on i love lucy show   \n",
      "3785 -7041482472551901963       when does sloan come into grey's anatomy   \n",
      "5018  3372882864771587940  who plays the voice of sulley in monsters inc   \n",
      "5813  9111835660082410727        what is the job of justice of the peace   \n",
      "1227 -4663296615598634791  who was allowed to vote in the roman republic   \n",
      "\n",
      "                                                   meta  \\\n",
      "5047  {'left_context': '', 'mention': '', 'right_con...   \n",
      "3785  {'left_context': '', 'mention': '', 'right_con...   \n",
      "5018  {'left_context': '', 'mention': '', 'right_con...   \n",
      "5813  {'left_context': '', 'mention': '', 'right_con...   \n",
      "1227  {'left_context': '', 'mention': '', 'right_con...   \n",
      "\n",
      "                                                 output  wikipedia_id  \\\n",
      "5047  [{'answer': 'Keith Thibodeaux', 'meta': {'scor...        173089   \n",
      "3785  [{'answer': 'season two', 'meta': {'score': -1...      10213087   \n",
      "5018  [{'answer': 'John Goodman', 'meta': {'score': ...        197558   \n",
      "5813  [{'answer': 'dispense summary justice', 'meta'...        260962   \n",
      "1227  [{'answer': 'citizens', 'meta': {'score': -1},...      48870396   \n",
      "\n",
      "                                               document  paragraph_number  \\\n",
      "5047  Keith Thibodeaux (born December 1, 1950) is a ...               1.0   \n",
      "3785  Jin Zhiyang (Simplified Chinese: 金志扬, born Jan...               1.0   \n",
      "5018  Monsters, Inc. is a 2001 American computer-ani...               1.0   \n",
      "5813  A justice of the peace (JP) is a judicial offi...               1.0   \n",
      "1227  Elections in the Roman Republic were an essent...               1.0   \n",
      "\n",
      "                        Answer                                          Query  \\\n",
      "5047             Chicago Bulls    who played little ricky on i love lucy show   \n",
      "3785                season two       when does sloan come into grey's anatomy   \n",
      "5018              John Goodman  who plays the voice of sulley in monsters inc   \n",
      "5813  dispense summary justice        what is the job of justice of the peace   \n",
      "1227                   Florida  who was allowed to vote in the roman republic   \n",
      "\n",
      "      Context_Relevance_Label  Answer_Faithfulness_Label  \\\n",
      "5047                      NaN                        0.0   \n",
      "3785                      0.0                        NaN   \n",
      "5018                      1.0                        1.0   \n",
      "5813                      1.0                        1.0   \n",
      "1227                      NaN                        0.0   \n",
      "\n",
      "      Answer_Relevance_Label  \n",
      "5047                     0.0  \n",
      "3785                     NaN  \n",
      "5018                     1.0  \n",
      "5813                     1.0  \n",
      "1227                     0.0  \n",
      "Fewshot Prompt\n",
      "Example 1:\n",
      "Document: What a time of it Dawson's Landing was having! All its life it had been asleep, but now it hardly got a chance for a nod, so swiftly did big events and crashing surprises come along in one another's wake: Friday morning, first glimpse of Real Nobility, also grand reception at Aunt Patsy Cooper's, also great robber raid; Friday evening, dramatic kicking of the heir of the chief citizen in presence of four hundred people; Saturday morning, emergence as practicing lawyer of the long submerged Pudd'nhead Wilson; Saturday night, duel between chief citizen and titled stranger. The people took more pride in the duel than in all the other events put together, perhaps. It was a glory to their town to have such a thing happen there. In their eyes the principals had reached the summit of human honor. Everybody paid homage to their names; their praises were in all mouths. Even the duelists' subordinates came in for a handsome share of the public approbation: wherefore Pudd'nhead Wilson was suddenly become a man of consequence. When asked to run for the mayoralty Saturday night, he was risking defeat, but Sunday morning found him a made man and his success assured.\n",
      "Question: On what day did the event happen that the most people took pride it?\n",
      "\n",
      "Example 2:\n",
      "Document: A married couple and their three young adult children , a son and two daughters , live in a large compound with a garden and a swimming pool . A tall fence surrounds the property and the children have never been on the other side of it , for their parents have kept them unaware of the outside world , even of the existence of the telephone . They are taught different meanings for everyday words . For example , they are told that a `` zombie '' is `` a small yellow flower , '' and that `` sea '' is a chair . The parents promise that each child will be ready to venture outside the compound once she or he has lost a dogtooth . Although the children are told they have a brother just on the other side of the barrier , he never appears . The only non family member to come into the house is Christina , a young woman who works as a security guard at the father's factory . She is driven by the father to the compound traveling both ways blindfolded where she performs sexual favors for the son . Dissatisfied with his preference for intercourse , Christina seeks oral sex from the elder daughter in exchange for a headband. The elder daughter obliges but does not recognize the significance of performing cunnilingus . Later , she gives the headband to her younger sister , in exchange for being licked on the shoulder , Which is marked by an unexplained scar . The parents have tricked the children into believing that overhead planes are merely toys . They allow the children to search for toy planes that they have planted on the grounds , and the child that finds the toy owns it .\n",
      "Question: With how many of the children does Christina commit a sexual act with?\n",
      "\n",
      "Example 3:\n",
      "Document: Mechanical energy is a combination of the energy of motion or position. This type of energy describes objects that are moving or could move. A moving ball can have energy from motion. An arrow can also have the energy of motion. Both are types of mechanical energy. Can you think of some other examples? Where does the energy of motion come from? It comes from the energy created by position. This energy is stored energy. This means it is not moving yet, but it has the potential to move. How can you store energy? The arrow gains energy from the drawn bow. As the arrow is released, the bow releases its stored energy and puts the arrow into motion. Can you think of some other ways to store energy using position?\n",
      "Question: How can a ball that is not moving possess energy of position?\n",
      "\n",
      "Example 4:\n",
      "Document: Surviving being shot and stabbed at the end of the previous film , the stepfather has been institutionalized in Puget Sound , Washington since , spending his time building model houses in the workshop . Assigned a new doctor named Joseph Danvers the stepfather begins confiding in him to gain his trust , ultimately murdering the doctor during a session by stabbing him in the neck with a blade smuggled out of the workshop . After killing Danvers the stepfather beats a suspicious guard named Ralph Smith to death with his own nightstick with only two strikes and takes his uniform , successfully sneaking out of the sanitarium . Checking into a hotel after robbing and murdering a traveling salesman the stepfather alters his appearance , takes the name Doctor Gene F. Clifford from the newspaper obituaries and travels to Palm Meadows , Los Angeles after seeing an ad for it on an episode of Dream House . Gene arrives in Palm Meadows and meets real estate agent Carol Grayland and leases a house just across the street from her and her son Todd . During a session with the wives of the neighborhood , Gene learns Carol 's dentist husband , Philip had absconded with his mistress the previous year . Gene begins courting Carol , eventually winning over her and Todd . Gene 's plan to marry Carol is soon complicated when Phil returns , wanting to reconcile with his wife . Needing Phil out of the way , Gene persuades Carol to send Phil over for a meeting , during which Gene kills him with a broken bottle , covering up Phil 's disappearance afterward by arranging it so that it looks as though he simply ran off again .\n",
      "Question: Before he murder the doctor and Ralph Smith, where did the stepfather reside?\n",
      "\n",
      "\n",
      "Finished loading dataset + model\n",
      "answer_gen_few_shot_examples\n",
      "Example 1:\n",
      "Document: What a time of it Dawson's Landing was having! All its life it had been asleep, but now it hardly got a chance for a nod, so swiftly did big events and crashing surprises come along in one another's wake: Friday morning, first glimpse of Real Nobility, also grand reception at Aunt Patsy Cooper's, also great robber raid; Friday evening, dramatic kicking of the heir of the chief citizen in presence of four hundred people; Saturday morning, emergence as practicing lawyer of the long-submerged Pudd'nhead Wilson; Saturday night, duel between chief citizen and titled stranger. The people took more pride in the duel than in all the other events put together, perhaps. It was a glory to their town to have such a thing happen there. In their eyes the principals had reached the summit of human honor. Everybody paid homage to their names; their praises were in all mouths. Even the duelists' subordinates came in for a handsome share of the public approbation: wherefore Pudd'nhead Wilson was suddenly become a man of consequence. When asked to run for the mayoralty Saturday night, he was risking defeat, but Sunday morning found him a made man and his success assured.\n",
      "Question: On what day did the event happen that the most people took pride it?\n",
      "Answer: Friday\n",
      "\n",
      "Example 2:\n",
      "Document: A married couple and their three young adult children , a son and two daughters , live in a large compound with a garden and a swimming pool .  A tall fence surrounds the property and the children have never been on the other side of it , for their parents have kept them unaware of the outside world , even of the existence of the telephone .  They are taught different meanings for everyday words .  For example , they are told that a `` zombie '' is `` a small yellow flower , '' and that `` sea '' is a chair .  The parents promise that each child will be ready to venture outside the compound once she or he has lost a dogtooth .  Although the children are told they have a brother just on the other side of the barrier , he never appears .  The only non-family member to come into the house is Christina , a young woman who works as a security guard at the father's factory .  She is driven by the father to the compound traveling both ways blindfolded where she performs sexual favors for the son .  Dissatisfied with his preference for intercourse , Christina seeks oral sex from the elder daughter in exchange for a headband.  The elder daughter obliges but does not recognize the significance of performing cunnilingus .  Later , she gives the headband to her younger sister , in exchange for being licked on the shoulder , Which is marked by an unexplained scar .  The parents have tricked the children into believing that overhead planes are merely toys .  They allow the children to search for toy planes that they have planted on the grounds , and the child that finds the toy owns it .\n",
      "Question: With how many of the children does Christina commit a sexual act with?\n",
      "Answer: 5\n",
      "\n",
      "Example 3:\n",
      "Document: Mechanical energy is a combination of the energy of motion or position. This type of energy describes objects that are moving or could move. A moving ball can have energy from motion. An arrow can also have the energy of motion. Both are types of mechanical energy. Can you think of some other examples? Where does the energy of motion come from? It comes from the energy created by position. This energy is stored energy. This means it is not moving yet, but it has the potential to move. How can you store energy? The arrow gains energy from the drawn bow. As the arrow is released, the bow releases its stored energy and puts the arrow into motion. Can you think of some other ways to store energy using position? \n",
      "Question: How can a ball that is not moving possess energy of position?\n",
      "Answer: It is because it has mechanical energy\n",
      "\n",
      "Example 4:\n",
      "Document: Surviving being shot and stabbed at the end of the previous film , the stepfather has been institutionalized in Puget Sound , Washington since , spending his time building model houses in the workshop . Assigned a new doctor named Joseph Danvers the stepfather begins confiding in him to gain his trust , ultimately murdering the doctor during a session by stabbing him in the neck with a blade smuggled out of the workshop . After killing Danvers the stepfather beats a suspicious guard named Ralph Smith to death with his own nightstick with only two strikes and takes his uniform , successfully sneaking out of the sanitarium . Checking into a hotel after robbing and murdering a traveling salesman the stepfather alters his appearance , takes the name Doctor Gene F. Clifford from the newspaper obituaries and travels to Palm Meadows , Los Angeles after seeing an ad for it on an episode of Dream House . Gene arrives in Palm Meadows and meets real estate agent Carol Grayland and leases a house just across the street from her and her son Todd . During a session with the wives of the neighborhood , Gene learns Carol 's dentist husband , Philip had absconded with his mistress the previous year . Gene begins courting Carol , eventually winning over her and Todd . Gene 's plan to marry Carol is soon complicated when Phil returns , wanting to reconcile with his wife . Needing Phil out of the way , Gene persuades Carol to send Phil over for a meeting , during which Gene kills him with a broken bottle , covering up Phil 's disappearance afterward by arranging it so that it looks as though he simply ran off again .\n",
      "Question: Before he murder the doctor and Ralph Smith, where did the stepfather reside?\n",
      "Answer: In Washington State\n",
      "\n",
      "\n",
      "documents\n",
      "100\n",
      "                       id                                          input  \\\n",
      "5047 -7565739765702854010    who played little ricky on i love lucy show   \n",
      "3785 -7041482472551901963       when does sloan come into grey's anatomy   \n",
      "5018  3372882864771587940  who plays the voice of sulley in monsters inc   \n",
      "5813  9111835660082410727        what is the job of justice of the peace   \n",
      "1227 -4663296615598634791  who was allowed to vote in the roman republic   \n",
      "\n",
      "                                                   meta  \\\n",
      "5047  {'left_context': '', 'mention': '', 'right_con...   \n",
      "3785  {'left_context': '', 'mention': '', 'right_con...   \n",
      "5018  {'left_context': '', 'mention': '', 'right_con...   \n",
      "5813  {'left_context': '', 'mention': '', 'right_con...   \n",
      "1227  {'left_context': '', 'mention': '', 'right_con...   \n",
      "\n",
      "                                                 output  wikipedia_id  \\\n",
      "5047  [{'answer': 'Keith Thibodeaux', 'meta': {'scor...        173089   \n",
      "3785  [{'answer': 'season two', 'meta': {'score': -1...      10213087   \n",
      "5018  [{'answer': 'John Goodman', 'meta': {'score': ...        197558   \n",
      "5813  [{'answer': 'dispense summary justice', 'meta'...        260962   \n",
      "1227  [{'answer': 'citizens', 'meta': {'score': -1},...      48870396   \n",
      "\n",
      "                                               document  paragraph_number  \\\n",
      "5047  Keith Thibodeaux (born December 1, 1950) is a ...               1.0   \n",
      "3785  Jin Zhiyang (Simplified Chinese: 金志扬, born Jan...               1.0   \n",
      "5018  Monsters, Inc. is a 2001 American computer-ani...               1.0   \n",
      "5813  A justice of the peace (JP) is a judicial offi...               1.0   \n",
      "1227  Elections in the Roman Republic were an essent...               1.0   \n",
      "\n",
      "                        Answer                                          Query  \\\n",
      "5047             Chicago Bulls    who played little ricky on i love lucy show   \n",
      "3785                season two       when does sloan come into grey's anatomy   \n",
      "5018              John Goodman  who plays the voice of sulley in monsters inc   \n",
      "5813  dispense summary justice        what is the job of justice of the peace   \n",
      "1227                   Florida  who was allowed to vote in the roman republic   \n",
      "\n",
      "      Context_Relevance_Label  Answer_Faithfulness_Label  \\\n",
      "5047                      NaN                        0.0   \n",
      "3785                      0.0                        NaN   \n",
      "5018                      1.0                        1.0   \n",
      "5813                      1.0                        1.0   \n",
      "1227                      NaN                        0.0   \n",
      "\n",
      "      Answer_Relevance_Label  \n",
      "5047                     0.0  \n",
      "3785                     NaN  \n",
      "5018                     1.0  \n",
      "5813                     1.0  \n",
      "1227                     0.0  \n",
      "Beginning synthetic query generation!\n"
     ]
    },
    {
     "name": "stderr",
     "output_type": "stream",
     "text": [
      "Generating synthetic queries...:   0%|          | 0/100 [00:00<?, ?it/s]Token indices sequence length is longer than the specified maximum sequence length for this model (1326 > 512). Running this sequence through the model will result in indexing errors\n",
      "Generating synthetic queries...: 100%|██████████| 100/100 [10:29<00:00,  6.29s/it]\n"
     ]
    },
    {
     "name": "stdout",
     "output_type": "stream",
     "text": [
      "Saved synthetic queries to: output/synthetic_queries_1.tsv\n",
      "Filtered synth queries\n",
      "323\n",
      "323\n",
      "Beginning answer generation!\n"
     ]
    },
    {
     "name": "stderr",
     "output_type": "stream",
     "text": [
      "Generating answers...: 100%|██████████| 323/323 [07:21<00:00,  1.37s/it]\n"
     ]
    },
    {
     "name": "stdout",
     "output_type": "stream",
     "text": [
      "Saved answers to: output/synthetic_queries_1.tsv\n",
      "Generating contradictory answers!\n"
     ]
    },
    {
     "name": "stderr",
     "output_type": "stream",
     "text": [
      "100%|██████████| 216/216 [03:38<00:00,  1.01s/it]\n"
     ]
    },
    {
     "name": "stdout",
     "output_type": "stream",
     "text": [
      "Contradictory Answers Added using Contradiction Generation\n",
      "216\n"
     ]
    },
    {
     "name": "stderr",
     "output_type": "stream",
     "text": [
      "100%|██████████| 216/216 [00:00<00:00, 999966.52it/s]\n"
     ]
    },
    {
     "name": "stdout",
     "output_type": "stream",
     "text": [
      "Contradictory Answers Added using Answer Randomization\n",
      "216\n",
      "Saved answers to: output/synthetic_queries_1.tsv\n",
      "synth_queries\n",
      "755\n",
      "                    id                                              input  \\\n",
      "0 -2107324154024383180         who wrote and performed i can only imagine   \n",
      "1  4332945299372983657     how many episodes are in chicago fire season 4   \n",
      "2 -6767347680243953858    who wrote the theme song for mission impossible   \n",
      "3 -7779530728701828621            where did they film the game of thrones   \n",
      "4  -701619113953256261  what is a real world application of an atwood ...   \n",
      "\n",
      "                                                meta  \\\n",
      "0  {'left_context': '', 'mention': '', 'right_con...   \n",
      "1  {'left_context': '', 'mention': '', 'right_con...   \n",
      "2  {'left_context': '', 'mention': '', 'right_con...   \n",
      "3  {'left_context': '', 'mention': '', 'right_con...   \n",
      "4  {'left_context': '', 'mention': '', 'right_con...   \n",
      "\n",
      "                                              output  wikipedia_id  \\\n",
      "0  [{'answer': 'Christian rock band MercyMe', 'me...       2867531   \n",
      "1  [{'answer': '23', 'meta': {'score': -1}, 'prov...      46380025   \n",
      "2  [{'answer': 'Lalo Schifrin', 'meta': {'score':...      30342004   \n",
      "3  [{'answer': 'Canada', 'meta': {'score': -1}, '...      20715044   \n",
      "4  [{'answer': 'An elevator with a counterbalance...        725441   \n",
      "\n",
      "                                            document  paragraph_number  \\\n",
      "0  The Peach Springs Trading Post, at 863 W AZ 66...               1.0   \n",
      "1  The fourth season of \"Chicago Fire\", an Americ...               1.0   \n",
      "2  \"Theme from \"Mission: Impossible\"\" is the them...               1.0   \n",
      "3  Game of Thrones is an American fantasy drama t...               1.0   \n",
      "4  An elevator with a counterbalance approximates...              40.0   \n",
      "\n",
      "                              Answer  \\\n",
      "0        Christian rock band MercyMe   \n",
      "1                                 23   \n",
      "2               prenatal development   \n",
      "3                             Canada   \n",
      "4  An elevator with a counterbalance   \n",
      "\n",
      "                                               Query  Context_Relevance_Label  \\\n",
      "0         who wrote and performed i can only imagine                      0.0   \n",
      "1     how many episodes are in chicago fire season 4                      1.0   \n",
      "2    who wrote the theme song for mission impossible                      NaN   \n",
      "3            where did they film the game of thrones                      1.0   \n",
      "4  what is a real world application of an atwood ...                      0.0   \n",
      "\n",
      "  Answer_Faithfulness_Label Answer_Relevance_Label  \\\n",
      "0                       Yes                    Yes   \n",
      "1                        No                     No   \n",
      "2                       Yes                    Yes   \n",
      "3                       Yes                    Yes   \n",
      "4                        No                     No   \n",
      "\n",
      "                                     synthetic_query       generated_answer  \n",
      "0  How many years after it was built was it liste...                     75  \n",
      "1  How many years passed between the fourth seaso...                      1  \n",
      "2        What other works has the theme appeared in?  the video game series  \n",
      "3  How many countries were involved in the produc...                      7  \n",
      "4  What are two examples of counter-weighted elev...           Eiffel Tower  \n",
      "Generating index and negatives!\n"
     ]
    },
    {
     "name": "stderr",
     "output_type": "stream",
     "text": [
      "Generating embeddings...: 100%|██████████| 99/99 [00:12<00:00,  7.78it/s]\n",
      "/future/u/manihani/ARES/LLM_as_a_Judge_Adaptation/Filter_Synthetic_Queries.py:34: SettingWithCopyWarning: \n",
      "A value is trying to be set on a copy of a slice from a DataFrame.\n",
      "Try using .loc[row_indexer,col_indexer] = value instead\n",
      "\n",
      "See the caveats in the documentation: https://pandas.pydata.org/pandas-docs/stable/user_guide/indexing.html#returning-a-view-versus-a-copy\n",
      "  dataframe['embeddings'] = dataframe[\"document\"].progress_apply(lambda x: get_embedding(x, model='text-embedding-ada-002'))\n"
     ]
    },
    {
     "data": {
      "application/vnd.jupyter.widget-view+json": {
       "model_id": "bcfe9821e70847e88768b95f0d1b4a23",
       "version_major": 2,
       "version_minor": 0
      },
      "text/plain": [
       "  0%|          | 0/1 [00:00<?, ?it/s]"
      ]
     },
     "metadata": {},
     "output_type": "display_data"
    },
    {
     "name": "stderr",
     "output_type": "stream",
     "text": [
      " 76%|███████▋  | 576/755 [01:20<00:26,  6.67it/s]"
     ]
    },
    {
     "name": "stdout",
     "output_type": "stream",
     "text": [
      "Error generating embedding! Attempting again...\n"
     ]
    },
    {
     "name": "stderr",
     "output_type": "stream",
     "text": [
      "100%|██████████| 755/755 [03:49<00:00,  3.28it/s]  \n"
     ]
    },
    {
     "name": "stdout",
     "output_type": "stream",
     "text": [
      "Before filter\n",
      "755\n",
      "After filter\n",
      "686\n",
      "6\n"
     ]
    },
    {
     "name": "stderr",
     "output_type": "stream",
     "text": [
      "  0%|          | 0/161 [00:00<?, ?it/s]"
     ]
    },
    {
     "name": "stdout",
     "output_type": "stream",
     "text": [
      "Number of samples: 99"
     ]
    },
    {
     "name": "stderr",
     "output_type": "stream",
     "text": [
      "  1%|          | 1/161 [00:00<00:31,  5.12it/s]"
     ]
    },
    {
     "name": "stdout",
     "output_type": "stream",
     "text": [
      "\n",
      "Number of samples: 99\n"
     ]
    },
    {
     "name": "stderr",
     "output_type": "stream",
     "text": [
      "  2%|▏         | 4/161 [00:00<00:28,  5.56it/s]"
     ]
    },
    {
     "name": "stdout",
     "output_type": "stream",
     "text": [
      "Number of samples: 99\n",
      "Number of samples: 99\n"
     ]
    },
    {
     "name": "stderr",
     "output_type": "stream",
     "text": [
      "  4%|▎         | 6/161 [00:01<00:27,  5.62it/s]"
     ]
    },
    {
     "name": "stdout",
     "output_type": "stream",
     "text": [
      "Number of samples: 99\n",
      "Number of samples: 99\n"
     ]
    },
    {
     "name": "stderr",
     "output_type": "stream",
     "text": [
      "  5%|▍         | 8/161 [00:01<00:28,  5.44it/s]"
     ]
    },
    {
     "name": "stdout",
     "output_type": "stream",
     "text": [
      "Number of samples: 99\n",
      "Number of samples: 99\n"
     ]
    },
    {
     "name": "stderr",
     "output_type": "stream",
     "text": [
      "  6%|▌         | 10/161 [00:01<00:28,  5.38it/s]"
     ]
    },
    {
     "name": "stdout",
     "output_type": "stream",
     "text": [
      "Number of samples: 99\n",
      "Number of samples: 99\n"
     ]
    },
    {
     "name": "stderr",
     "output_type": "stream",
     "text": [
      "  7%|▋         | 12/161 [00:02<00:44,  3.35it/s]"
     ]
    },
    {
     "name": "stdout",
     "output_type": "stream",
     "text": [
      "Number of samples: 99\n",
      "Number of samples: 99\n"
     ]
    },
    {
     "name": "stderr",
     "output_type": "stream",
     "text": [
      "  9%|▊         | 14/161 [00:03<00:34,  4.28it/s]"
     ]
    },
    {
     "name": "stdout",
     "output_type": "stream",
     "text": [
      "Number of samples: 99\n",
      "Number of samples: 99\n"
     ]
    },
    {
     "name": "stderr",
     "output_type": "stream",
     "text": [
      "  9%|▉         | 15/161 [00:03<00:32,  4.52it/s]"
     ]
    },
    {
     "name": "stdout",
     "output_type": "stream",
     "text": [
      "Number of samples: 99\n"
     ]
    },
    {
     "name": "stderr",
     "output_type": "stream",
     "text": [
      " 11%|█         | 17/161 [00:03<00:38,  3.75it/s]"
     ]
    },
    {
     "name": "stdout",
     "output_type": "stream",
     "text": [
      "Number of samples: 99\n",
      "Number of samples: 99\n"
     ]
    },
    {
     "name": "stderr",
     "output_type": "stream",
     "text": [
      " 11%|█         | 18/161 [00:04<00:34,  4.11it/s]"
     ]
    },
    {
     "name": "stdout",
     "output_type": "stream",
     "text": [
      "Number of samples: 99\n"
     ]
    },
    {
     "name": "stderr",
     "output_type": "stream",
     "text": [
      " 12%|█▏        | 19/161 [00:04<00:33,  4.19it/s]"
     ]
    },
    {
     "name": "stdout",
     "output_type": "stream",
     "text": [
      "Number of samples: 99\n"
     ]
    },
    {
     "name": "stderr",
     "output_type": "stream",
     "text": [
      " 13%|█▎        | 21/161 [00:04<00:30,  4.53it/s]"
     ]
    },
    {
     "name": "stdout",
     "output_type": "stream",
     "text": [
      "Number of samples: 99\n",
      "Number of samples: 99\n"
     ]
    },
    {
     "name": "stderr",
     "output_type": "stream",
     "text": [
      " 14%|█▍        | 23/161 [00:05<00:27,  4.99it/s]"
     ]
    },
    {
     "name": "stdout",
     "output_type": "stream",
     "text": [
      "Number of samples: 99\n",
      "Number of samples: 99\n"
     ]
    },
    {
     "name": "stderr",
     "output_type": "stream",
     "text": [
      " 16%|█▌        | 25/161 [00:05<00:25,  5.37it/s]"
     ]
    },
    {
     "name": "stdout",
     "output_type": "stream",
     "text": [
      "Number of samples: 99\n",
      "Number of samples: 99\n"
     ]
    },
    {
     "name": "stderr",
     "output_type": "stream",
     "text": [
      " 16%|█▌        | 26/161 [00:05<00:30,  4.44it/s]"
     ]
    },
    {
     "name": "stdout",
     "output_type": "stream",
     "text": [
      "Number of samples: 99\n"
     ]
    },
    {
     "name": "stderr",
     "output_type": "stream",
     "text": [
      " 17%|█▋        | 28/161 [00:06<00:29,  4.56it/s]"
     ]
    },
    {
     "name": "stdout",
     "output_type": "stream",
     "text": [
      "Number of samples: 99\n",
      "Number of samples: 99\n"
     ]
    },
    {
     "name": "stderr",
     "output_type": "stream",
     "text": [
      " 19%|█▊        | 30/161 [00:06<00:25,  5.09it/s]"
     ]
    },
    {
     "name": "stdout",
     "output_type": "stream",
     "text": [
      "Number of samples: 99\n",
      "Number of samples: 99\n"
     ]
    },
    {
     "name": "stderr",
     "output_type": "stream",
     "text": [
      " 20%|█▉        | 32/161 [00:06<00:24,  5.18it/s]"
     ]
    },
    {
     "name": "stdout",
     "output_type": "stream",
     "text": [
      "Number of samples: 99\n",
      "Number of samples: 99\n"
     ]
    },
    {
     "name": "stderr",
     "output_type": "stream",
     "text": [
      " 21%|██        | 34/161 [00:07<00:32,  3.91it/s]"
     ]
    },
    {
     "name": "stdout",
     "output_type": "stream",
     "text": [
      "Number of samples: 99\n",
      "Number of samples: 99\n"
     ]
    },
    {
     "name": "stderr",
     "output_type": "stream",
     "text": [
      " 22%|██▏       | 36/161 [00:08<00:28,  4.43it/s]"
     ]
    },
    {
     "name": "stdout",
     "output_type": "stream",
     "text": [
      "Number of samples: 99\n",
      "Number of samples: 99\n"
     ]
    },
    {
     "name": "stderr",
     "output_type": "stream",
     "text": [
      " 24%|██▎       | 38/161 [00:08<00:25,  4.85it/s]"
     ]
    },
    {
     "name": "stdout",
     "output_type": "stream",
     "text": [
      "Number of samples: 99\n",
      "Number of samples: 99\n"
     ]
    },
    {
     "name": "stderr",
     "output_type": "stream",
     "text": [
      " 25%|██▍       | 40/161 [00:08<00:23,  5.10it/s]"
     ]
    },
    {
     "name": "stdout",
     "output_type": "stream",
     "text": [
      "Number of samples: 99\n",
      "Number of samples: 99\n"
     ]
    },
    {
     "name": "stderr",
     "output_type": "stream",
     "text": [
      " 25%|██▌       | 41/161 [00:08<00:21,  5.46it/s]"
     ]
    },
    {
     "name": "stdout",
     "output_type": "stream",
     "text": [
      "Number of samples: 99\n"
     ]
    },
    {
     "name": "stderr",
     "output_type": "stream",
     "text": [
      " 27%|██▋       | 43/161 [00:09<00:21,  5.47it/s]"
     ]
    },
    {
     "name": "stdout",
     "output_type": "stream",
     "text": [
      "Number of samples: 99\n",
      "Number of samples: 99\n"
     ]
    },
    {
     "name": "stderr",
     "output_type": "stream",
     "text": [
      " 27%|██▋       | 44/161 [00:09<00:33,  3.47it/s]"
     ]
    },
    {
     "name": "stdout",
     "output_type": "stream",
     "text": [
      "Number of samples: 99\n",
      "Error generating embedding! Attempting again...\n"
     ]
    },
    {
     "name": "stderr",
     "output_type": "stream",
     "text": [
      " 28%|██▊       | 45/161 [02:10<1:10:12, 36.31s/it]"
     ]
    },
    {
     "name": "stdout",
     "output_type": "stream",
     "text": [
      "Number of samples: 99\n"
     ]
    },
    {
     "name": "stderr",
     "output_type": "stream",
     "text": [
      " 29%|██▉       | 47/161 [02:10<34:05, 17.94s/it]  "
     ]
    },
    {
     "name": "stdout",
     "output_type": "stream",
     "text": [
      "Number of samples: 99\n",
      "Number of samples: 99\n"
     ]
    },
    {
     "name": "stderr",
     "output_type": "stream",
     "text": [
      " 30%|███       | 49/161 [02:11<16:34,  8.88s/it]"
     ]
    },
    {
     "name": "stdout",
     "output_type": "stream",
     "text": [
      "Number of samples: 99\n",
      "Number of samples: 99\n"
     ]
    },
    {
     "name": "stderr",
     "output_type": "stream",
     "text": [
      " 32%|███▏      | 51/161 [02:11<08:08,  4.44s/it]"
     ]
    },
    {
     "name": "stdout",
     "output_type": "stream",
     "text": [
      "Number of samples: 99\n",
      "Number of samples: 99\n"
     ]
    },
    {
     "name": "stderr",
     "output_type": "stream",
     "text": [
      " 33%|███▎      | 53/161 [02:11<04:05,  2.27s/it]"
     ]
    },
    {
     "name": "stdout",
     "output_type": "stream",
     "text": [
      "Number of samples: 99\n",
      "Number of samples: 99\n"
     ]
    },
    {
     "name": "stderr",
     "output_type": "stream",
     "text": [
      " 34%|███▍      | 55/161 [02:12<02:08,  1.21s/it]"
     ]
    },
    {
     "name": "stdout",
     "output_type": "stream",
     "text": [
      "Number of samples: 99\n",
      "Number of samples: 99\n"
     ]
    },
    {
     "name": "stderr",
     "output_type": "stream",
     "text": [
      " 35%|███▍      | 56/161 [02:12<01:34,  1.11it/s]"
     ]
    },
    {
     "name": "stdout",
     "output_type": "stream",
     "text": [
      "Number of samples: 99\n"
     ]
    },
    {
     "name": "stderr",
     "output_type": "stream",
     "text": [
      " 35%|███▌      | 57/161 [02:13<01:24,  1.23it/s]"
     ]
    },
    {
     "name": "stdout",
     "output_type": "stream",
     "text": [
      "Number of samples: 99\n"
     ]
    },
    {
     "name": "stderr",
     "output_type": "stream",
     "text": [
      " 37%|███▋      | 59/161 [02:13<00:51,  2.00it/s]"
     ]
    },
    {
     "name": "stdout",
     "output_type": "stream",
     "text": [
      "Number of samples: 99\n",
      "Number of samples: 99\n"
     ]
    },
    {
     "name": "stderr",
     "output_type": "stream",
     "text": [
      " 38%|███▊      | 61/161 [02:13<00:33,  2.99it/s]"
     ]
    },
    {
     "name": "stdout",
     "output_type": "stream",
     "text": [
      "Number of samples: 99\n",
      "Number of samples: 99\n"
     ]
    },
    {
     "name": "stderr",
     "output_type": "stream",
     "text": [
      " 39%|███▉      | 63/161 [02:14<00:24,  3.98it/s]"
     ]
    },
    {
     "name": "stdout",
     "output_type": "stream",
     "text": [
      "Number of samples: 99\n",
      "Number of samples: 99\n"
     ]
    },
    {
     "name": "stderr",
     "output_type": "stream",
     "text": [
      " 40%|████      | 65/161 [02:14<00:21,  4.57it/s]"
     ]
    },
    {
     "name": "stdout",
     "output_type": "stream",
     "text": [
      "Number of samples: 99\n",
      "Number of samples: 99\n"
     ]
    },
    {
     "name": "stderr",
     "output_type": "stream",
     "text": [
      " 42%|████▏     | 67/161 [02:14<00:18,  5.19it/s]"
     ]
    },
    {
     "name": "stdout",
     "output_type": "stream",
     "text": [
      "Number of samples: 99\n",
      "Number of samples: 99\n"
     ]
    },
    {
     "name": "stderr",
     "output_type": "stream",
     "text": [
      " 43%|████▎     | 69/161 [02:15<00:17,  5.41it/s]"
     ]
    },
    {
     "name": "stdout",
     "output_type": "stream",
     "text": [
      "Number of samples: 99\n",
      "Number of samples: 99\n"
     ]
    },
    {
     "name": "stderr",
     "output_type": "stream",
     "text": [
      " 44%|████▍     | 71/161 [02:15<00:16,  5.48it/s]"
     ]
    },
    {
     "name": "stdout",
     "output_type": "stream",
     "text": [
      "Number of samples: 99\n",
      "Number of samples: 99\n"
     ]
    },
    {
     "name": "stderr",
     "output_type": "stream",
     "text": [
      " 45%|████▌     | 73/161 [02:16<00:17,  5.16it/s]"
     ]
    },
    {
     "name": "stdout",
     "output_type": "stream",
     "text": [
      "Number of samples: 99\n",
      "Number of samples: 99\n"
     ]
    },
    {
     "name": "stderr",
     "output_type": "stream",
     "text": [
      " 47%|████▋     | 75/161 [02:16<00:15,  5.58it/s]"
     ]
    },
    {
     "name": "stdout",
     "output_type": "stream",
     "text": [
      "Number of samples: 99\n",
      "Number of samples: 99\n"
     ]
    },
    {
     "name": "stderr",
     "output_type": "stream",
     "text": [
      " 48%|████▊     | 77/161 [02:16<00:16,  5.24it/s]"
     ]
    },
    {
     "name": "stdout",
     "output_type": "stream",
     "text": [
      "Number of samples: 99\n",
      "Number of samples: 99\n"
     ]
    },
    {
     "name": "stderr",
     "output_type": "stream",
     "text": [
      " 49%|████▉     | 79/161 [02:17<00:14,  5.72it/s]"
     ]
    },
    {
     "name": "stdout",
     "output_type": "stream",
     "text": [
      "Number of samples: 99\n",
      "Number of samples: 99\n"
     ]
    },
    {
     "name": "stderr",
     "output_type": "stream",
     "text": [
      " 50%|████▉     | 80/161 [02:17<00:14,  5.61it/s]"
     ]
    },
    {
     "name": "stdout",
     "output_type": "stream",
     "text": [
      "Number of samples: 99\n"
     ]
    },
    {
     "name": "stderr",
     "output_type": "stream",
     "text": [
      " 51%|█████     | 82/161 [02:17<00:15,  5.17it/s]"
     ]
    },
    {
     "name": "stdout",
     "output_type": "stream",
     "text": [
      "Number of samples: 99\n",
      "Number of samples: 99\n"
     ]
    },
    {
     "name": "stderr",
     "output_type": "stream",
     "text": [
      " 52%|█████▏    | 83/161 [02:17<00:14,  5.24it/s]"
     ]
    },
    {
     "name": "stdout",
     "output_type": "stream",
     "text": [
      "Number of samples: 99\n"
     ]
    },
    {
     "name": "stderr",
     "output_type": "stream",
     "text": [
      " 53%|█████▎    | 85/161 [02:18<00:14,  5.10it/s]"
     ]
    },
    {
     "name": "stdout",
     "output_type": "stream",
     "text": [
      "Number of samples: 99\n",
      "Number of samples: 99\n"
     ]
    },
    {
     "name": "stderr",
     "output_type": "stream",
     "text": [
      " 53%|█████▎    | 86/161 [02:18<00:14,  5.15it/s]"
     ]
    },
    {
     "name": "stdout",
     "output_type": "stream",
     "text": [
      "Number of samples: 99\n"
     ]
    },
    {
     "name": "stderr",
     "output_type": "stream",
     "text": [
      " 55%|█████▍    | 88/161 [02:18<00:14,  4.99it/s]"
     ]
    },
    {
     "name": "stdout",
     "output_type": "stream",
     "text": [
      "Number of samples: 99\n",
      "Number of samples: 99\n"
     ]
    },
    {
     "name": "stderr",
     "output_type": "stream",
     "text": [
      " 56%|█████▌    | 90/161 [02:19<00:13,  5.30it/s]"
     ]
    },
    {
     "name": "stdout",
     "output_type": "stream",
     "text": [
      "Number of samples: 99\n",
      "Number of samples: 99\n"
     ]
    },
    {
     "name": "stderr",
     "output_type": "stream",
     "text": [
      " 57%|█████▋    | 92/161 [02:19<00:12,  5.67it/s]"
     ]
    },
    {
     "name": "stdout",
     "output_type": "stream",
     "text": [
      "Number of samples: 99\n",
      "Number of samples: 99\n"
     ]
    },
    {
     "name": "stderr",
     "output_type": "stream",
     "text": [
      " 58%|█████▊    | 94/161 [02:19<00:11,  6.06it/s]"
     ]
    },
    {
     "name": "stdout",
     "output_type": "stream",
     "text": [
      "Number of samples: 99\n",
      "Number of samples: 99\n"
     ]
    },
    {
     "name": "stderr",
     "output_type": "stream",
     "text": [
      " 59%|█████▉    | 95/161 [02:20<00:11,  5.86it/s]"
     ]
    },
    {
     "name": "stdout",
     "output_type": "stream",
     "text": [
      "Number of samples: 99\n"
     ]
    },
    {
     "name": "stderr",
     "output_type": "stream",
     "text": [
      " 60%|██████    | 97/161 [02:20<00:14,  4.56it/s]"
     ]
    },
    {
     "name": "stdout",
     "output_type": "stream",
     "text": [
      "Number of samples: 99\n",
      "Number of samples: 99\n"
     ]
    },
    {
     "name": "stderr",
     "output_type": "stream",
     "text": [
      " 61%|██████▏   | 99/161 [02:21<00:12,  4.98it/s]"
     ]
    },
    {
     "name": "stdout",
     "output_type": "stream",
     "text": [
      "Number of samples: 99\n",
      "Number of samples: 99\n"
     ]
    },
    {
     "name": "stderr",
     "output_type": "stream",
     "text": [
      " 63%|██████▎   | 101/161 [02:21<00:10,  5.46it/s]"
     ]
    },
    {
     "name": "stdout",
     "output_type": "stream",
     "text": [
      "Number of samples: 99\n",
      "Number of samples: 99\n"
     ]
    },
    {
     "name": "stderr",
     "output_type": "stream",
     "text": [
      " 64%|██████▍   | 103/161 [02:21<00:10,  5.39it/s]"
     ]
    },
    {
     "name": "stdout",
     "output_type": "stream",
     "text": [
      "Number of samples: 99\n",
      "Number of samples: 99\n"
     ]
    },
    {
     "name": "stderr",
     "output_type": "stream",
     "text": [
      " 65%|██████▌   | 105/161 [02:22<00:09,  5.83it/s]"
     ]
    },
    {
     "name": "stdout",
     "output_type": "stream",
     "text": [
      "Number of samples: 99\n",
      "Number of samples: 99\n"
     ]
    },
    {
     "name": "stderr",
     "output_type": "stream",
     "text": [
      " 66%|██████▋   | 107/161 [02:22<00:09,  5.90it/s]"
     ]
    },
    {
     "name": "stdout",
     "output_type": "stream",
     "text": [
      "Number of samples: 99\n",
      "Number of samples: 99\n"
     ]
    },
    {
     "name": "stderr",
     "output_type": "stream",
     "text": [
      " 67%|██████▋   | 108/161 [02:22<00:09,  5.70it/s]"
     ]
    },
    {
     "name": "stdout",
     "output_type": "stream",
     "text": [
      "Number of samples: 99\n"
     ]
    },
    {
     "name": "stderr",
     "output_type": "stream",
     "text": [
      " 68%|██████▊   | 110/161 [02:23<00:09,  5.43it/s]"
     ]
    },
    {
     "name": "stdout",
     "output_type": "stream",
     "text": [
      "Number of samples: 99\n",
      "Number of samples: 99\n"
     ]
    },
    {
     "name": "stderr",
     "output_type": "stream",
     "text": [
      " 69%|██████▉   | 111/161 [02:23<00:09,  5.44it/s]"
     ]
    },
    {
     "name": "stdout",
     "output_type": "stream",
     "text": [
      "Number of samples: 99\n"
     ]
    },
    {
     "name": "stderr",
     "output_type": "stream",
     "text": [
      " 70%|██████▉   | 112/161 [02:23<00:10,  4.51it/s]"
     ]
    },
    {
     "name": "stdout",
     "output_type": "stream",
     "text": [
      "Number of samples: 99\n"
     ]
    },
    {
     "name": "stderr",
     "output_type": "stream",
     "text": [
      " 70%|███████   | 113/161 [02:24<00:18,  2.65it/s]"
     ]
    },
    {
     "name": "stdout",
     "output_type": "stream",
     "text": [
      "Number of samples: 99\n"
     ]
    },
    {
     "name": "stderr",
     "output_type": "stream",
     "text": [
      " 71%|███████▏  | 115/161 [02:24<00:14,  3.28it/s]"
     ]
    },
    {
     "name": "stdout",
     "output_type": "stream",
     "text": [
      "Number of samples: 99\n",
      "Number of samples: 99\n"
     ]
    },
    {
     "name": "stderr",
     "output_type": "stream",
     "text": [
      " 73%|███████▎  | 117/161 [02:25<00:10,  4.26it/s]"
     ]
    },
    {
     "name": "stdout",
     "output_type": "stream",
     "text": [
      "Number of samples: 99\n",
      "Number of samples: 99\n"
     ]
    },
    {
     "name": "stderr",
     "output_type": "stream",
     "text": [
      " 74%|███████▍  | 119/161 [02:25<00:08,  4.74it/s]"
     ]
    },
    {
     "name": "stdout",
     "output_type": "stream",
     "text": [
      "Number of samples: 99\n",
      "Number of samples: 99\n"
     ]
    },
    {
     "name": "stderr",
     "output_type": "stream",
     "text": [
      " 75%|███████▌  | 121/161 [02:25<00:07,  5.19it/s]"
     ]
    },
    {
     "name": "stdout",
     "output_type": "stream",
     "text": [
      "Number of samples: 99\n",
      "Number of samples: 99\n"
     ]
    },
    {
     "name": "stderr",
     "output_type": "stream",
     "text": [
      " 76%|███████▋  | 123/161 [02:26<00:07,  5.23it/s]"
     ]
    },
    {
     "name": "stdout",
     "output_type": "stream",
     "text": [
      "Number of samples: 99\n",
      "Number of samples: 99\n"
     ]
    },
    {
     "name": "stderr",
     "output_type": "stream",
     "text": [
      " 77%|███████▋  | 124/161 [02:26<00:06,  5.57it/s]"
     ]
    },
    {
     "name": "stdout",
     "output_type": "stream",
     "text": [
      "Number of samples: 99\n",
      "Number of samples: 99\n"
     ]
    },
    {
     "name": "stderr",
     "output_type": "stream",
     "text": [
      " 78%|███████▊  | 126/161 [02:26<00:06,  5.18it/s]"
     ]
    },
    {
     "name": "stdout",
     "output_type": "stream",
     "text": [
      "Number of samples: 99\n"
     ]
    },
    {
     "name": "stderr",
     "output_type": "stream",
     "text": [
      " 79%|███████▉  | 127/161 [02:26<00:06,  5.01it/s]"
     ]
    },
    {
     "name": "stdout",
     "output_type": "stream",
     "text": [
      "Number of samples: 99\n"
     ]
    },
    {
     "name": "stderr",
     "output_type": "stream",
     "text": [
      " 80%|████████  | 129/161 [02:27<00:06,  4.97it/s]"
     ]
    },
    {
     "name": "stdout",
     "output_type": "stream",
     "text": [
      "Number of samples: 99\n",
      "Number of samples: 99\n"
     ]
    },
    {
     "name": "stderr",
     "output_type": "stream",
     "text": [
      " 81%|████████▏ | 131/161 [02:27<00:05,  5.68it/s]"
     ]
    },
    {
     "name": "stdout",
     "output_type": "stream",
     "text": [
      "Number of samples: 99\n",
      "Number of samples: 99\n"
     ]
    },
    {
     "name": "stderr",
     "output_type": "stream",
     "text": [
      " 83%|████████▎ | 133/161 [02:28<00:05,  5.30it/s]"
     ]
    },
    {
     "name": "stdout",
     "output_type": "stream",
     "text": [
      "Number of samples: 99\n",
      "Number of samples: 99\n"
     ]
    },
    {
     "name": "stderr",
     "output_type": "stream",
     "text": [
      " 84%|████████▍ | 135/161 [02:28<00:04,  5.62it/s]"
     ]
    },
    {
     "name": "stdout",
     "output_type": "stream",
     "text": [
      "Number of samples: 99\n",
      "Number of samples: 99\n"
     ]
    },
    {
     "name": "stderr",
     "output_type": "stream",
     "text": [
      " 85%|████████▌ | 137/161 [02:28<00:04,  5.75it/s]"
     ]
    },
    {
     "name": "stdout",
     "output_type": "stream",
     "text": [
      "Number of samples: 99\n",
      "Number of samples: 99\n"
     ]
    },
    {
     "name": "stderr",
     "output_type": "stream",
     "text": [
      " 86%|████████▋ | 139/161 [02:29<00:03,  5.85it/s]"
     ]
    },
    {
     "name": "stdout",
     "output_type": "stream",
     "text": [
      "Number of samples: 99\n",
      "Number of samples: 99\n"
     ]
    },
    {
     "name": "stderr",
     "output_type": "stream",
     "text": [
      " 88%|████████▊ | 141/161 [02:29<00:03,  5.94it/s]"
     ]
    },
    {
     "name": "stdout",
     "output_type": "stream",
     "text": [
      "Number of samples: 99\n",
      "Number of samples: 99\n"
     ]
    },
    {
     "name": "stderr",
     "output_type": "stream",
     "text": [
      " 89%|████████▉ | 143/161 [02:29<00:03,  5.75it/s]"
     ]
    },
    {
     "name": "stdout",
     "output_type": "stream",
     "text": [
      "Number of samples: 99\n",
      "Number of samples: 99\n"
     ]
    },
    {
     "name": "stderr",
     "output_type": "stream",
     "text": [
      " 90%|█████████ | 145/161 [02:30<00:02,  5.99it/s]"
     ]
    },
    {
     "name": "stdout",
     "output_type": "stream",
     "text": [
      "Number of samples: 99\n",
      "Number of samples: 99\n"
     ]
    },
    {
     "name": "stderr",
     "output_type": "stream",
     "text": [
      " 91%|█████████ | 146/161 [02:30<00:02,  5.40it/s]"
     ]
    },
    {
     "name": "stdout",
     "output_type": "stream",
     "text": [
      "Number of samples: 99\n"
     ]
    },
    {
     "name": "stderr",
     "output_type": "stream",
     "text": [
      " 91%|█████████▏| 147/161 [02:30<00:02,  5.03it/s]"
     ]
    },
    {
     "name": "stdout",
     "output_type": "stream",
     "text": [
      "Number of samples: 99\n"
     ]
    },
    {
     "name": "stderr",
     "output_type": "stream",
     "text": [
      " 93%|█████████▎| 149/161 [02:30<00:02,  5.02it/s]"
     ]
    },
    {
     "name": "stdout",
     "output_type": "stream",
     "text": [
      "Number of samples: 99\n",
      "Number of samples: 99\n"
     ]
    },
    {
     "name": "stderr",
     "output_type": "stream",
     "text": [
      " 94%|█████████▍| 151/161 [02:31<00:02,  4.97it/s]"
     ]
    },
    {
     "name": "stdout",
     "output_type": "stream",
     "text": [
      "Number of samples: 99\n",
      "Number of samples: 99\n"
     ]
    },
    {
     "name": "stderr",
     "output_type": "stream",
     "text": [
      " 94%|█████████▍| 152/161 [02:31<00:01,  4.94it/s]"
     ]
    },
    {
     "name": "stdout",
     "output_type": "stream",
     "text": [
      "Number of samples: 99\n",
      "Number of samples: 99\n"
     ]
    },
    {
     "name": "stderr",
     "output_type": "stream",
     "text": [
      " 96%|█████████▋| 155/161 [02:32<00:01,  5.33it/s]"
     ]
    },
    {
     "name": "stdout",
     "output_type": "stream",
     "text": [
      "Number of samples: 99\n",
      "Number of samples: 99\n"
     ]
    },
    {
     "name": "stderr",
     "output_type": "stream",
     "text": [
      " 98%|█████████▊| 157/161 [02:32<00:00,  5.37it/s]"
     ]
    },
    {
     "name": "stdout",
     "output_type": "stream",
     "text": [
      "Number of samples: 99\n",
      "Number of samples: 99\n"
     ]
    },
    {
     "name": "stderr",
     "output_type": "stream",
     "text": [
      " 98%|█████████▊| 158/161 [02:32<00:00,  5.20it/s]"
     ]
    },
    {
     "name": "stdout",
     "output_type": "stream",
     "text": [
      "Number of samples: 99\n"
     ]
    },
    {
     "name": "stderr",
     "output_type": "stream",
     "text": [
      " 99%|█████████▉| 159/161 [02:32<00:00,  4.80it/s]"
     ]
    },
    {
     "name": "stdout",
     "output_type": "stream",
     "text": [
      "Number of samples: 99\n"
     ]
    },
    {
     "name": "stderr",
     "output_type": "stream",
     "text": [
      "100%|██████████| 161/161 [02:33<00:00,  1.05it/s]\n"
     ]
    },
    {
     "name": "stdout",
     "output_type": "stream",
     "text": [
      "Number of samples: 99\n",
      "Number of samples: 99\n",
      "Negatives Added\n",
      "161\n"
     ]
    },
    {
     "name": "stderr",
     "output_type": "stream",
     "text": [
      "0it [00:00, ?it/s]"
     ]
    },
    {
     "name": "stdout",
     "output_type": "stream",
     "text": [
      "Positives Added\n",
      "0\n"
     ]
    },
    {
     "name": "stderr",
     "output_type": "stream",
     "text": [
      "\n"
     ]
    },
    {
     "name": "stdout",
     "output_type": "stream",
     "text": [
      "Label Sets for each Metric\n",
      "{'No', nan, 'Yes'}\n",
      "{'No', 'Yes'}\n",
      "{'No', 'Yes'}\n",
      "synth_queries filtered\n",
      "916\n",
      "                      id                                              input  \\\n",
      "380 -3389723371168293793  who has the most olympic medals in figure skating   \n",
      "879 -1711944377965749852  the boiling point of water is 100 degrees cels...   \n",
      "355  6147480559877930832            what is the money called in south korea   \n",
      "357  -388088153376170061  star wars episode ii attack of the clones char...   \n",
      "362    14177645587273144       when did equus first appear in fossil record   \n",
      "\n",
      "                                                  meta  \\\n",
      "380  {'left_context': '', 'mention': '', 'right_con...   \n",
      "879  {'left_context': '', 'mention': '', 'right_con...   \n",
      "355  {'left_context': '', 'mention': '', 'right_con...   \n",
      "357  {'left_context': '', 'mention': '', 'right_con...   \n",
      "362  {'left_context': '', 'mention': '', 'right_con...   \n",
      "\n",
      "                                                output  wikipedia_id  \\\n",
      "380  [{'answer': 'Tessa Virtue', 'meta': {'score': ...       4520234   \n",
      "879  [{'answer': '100 ° C', 'meta': {'score': -1}, ...      19593040   \n",
      "355  [{'answer': 'won', 'meta': {'score': -1}, 'pro...        298884   \n",
      "357  [{'answer': 'Obi - Wan Kenobi', 'meta': {'scor...         50957   \n",
      "362  [{'answer': '1820s', 'meta': {'score': -1}, 'p...      10490785   \n",
      "\n",
      "                                              document  paragraph_number  \\\n",
      "380  Baseball of the 19th century was America's mos...               2.0   \n",
      "879  Jin Zhiyang (Simplified Chinese: 金志扬, born Jan...               2.0   \n",
      "355                                   South Korean won               0.0   \n",
      "357  In writing \"The Empire Strikes Back\", Lucas in...              36.0   \n",
      "362  The first Old World equid fossil was found in ...               6.0   \n",
      "\n",
      "                    Answer                                              Query  \\\n",
      "380           Tessa Virtue  who has the most olympic medals in figure skating   \n",
      "879                100 ° C  the boiling point of water is 100 degrees cels...   \n",
      "355           Paraná River            what is the money called in south korea   \n",
      "357  John Vincent Calipari  star wars episode ii attack of the clones char...   \n",
      "362                  1820s       when did equus first appear in fossil record   \n",
      "\n",
      "    Context_Relevance_Label Answer_Faithfulness_Label Answer_Relevance_Label  \\\n",
      "380                     Yes                       Yes                     No   \n",
      "879                      No                       Yes                     No   \n",
      "355                     Yes                       Yes                    Yes   \n",
      "357                     Yes                       Yes                     No   \n",
      "362                     Yes                       Yes                    Yes   \n",
      "\n",
      "                                       synthetic_query  \\\n",
      "380  Why was the umpire's voice a poor signal to th...   \n",
      "879  What was the Celsius scale based on prior to 1...   \n",
      "355   Was the South Korean team competing with the US?   \n",
      "357        Who did Lucas initially decide was a clone?   \n",
      "362  What was the name of the person who identified...   \n",
      "\n",
      "                                      generated_answer  \\\n",
      "380                                       unanswerable   \n",
      "879  causing the fish that are vital to the village...   \n",
      "355                                                 no   \n",
      "357                                       Arthur Chung   \n",
      "362                                     Georges Cuvier   \n",
      "\n",
      "     negative_sample_retrieved  additional_positive_added  \n",
      "380                        NaN                        NaN  \n",
      "879                       92.0                        NaN  \n",
      "355                        NaN                        NaN  \n",
      "357                        NaN                        NaN  \n",
      "362                        NaN                        NaN  \n",
      "Positive and Negative Counts\n",
      "Context Relevance\n",
      "686\n",
      "167\n",
      "Answer Faithfulness\n",
      "672\n",
      "244\n",
      "Answer Relevance\n",
      "422\n",
      "494\n",
      "Completed synthetic generation!\n",
      "Saved synthetic queries file to: output/synthetic_queries_1.tsv\n",
      "Document 0: Baseball of the 19th century was America's most popular spectator sport. Professional teams like the 1889 Brooklyn Bridegrooms drew nearly a half a million fans per season. Thousands of fans attended some of the earliest known games, but without the benefit of the signals on the diamond to tell them what was happening on the field. There were no signals for strike, safe, out or foul and no announcer to interpret the game. Prior to the invention of baseball signs, the only signal was the umpire's voice, often drowned out by the roar of thousands of excited fans. \"Signs of the Time\" explores the origins of this innovation and the baseball pioneers that changed the course of the game and history.\n",
      "Synthetic Query: Why was the umpire's voice a poor signal to the players prior to the invention of signs?\n",
      "Answer: unanswerable\n",
      "--------------------------------------------------\n",
      "Document 1: Jin Zhiyang (Simplified Chinese: 金志扬, born January 10, 1944) is a Chinese football coach and a former player. He is mainly noted within China for his loyal service towards Beijing as both a successful player and then later as a coach for the team where his greatest achievements was when he managed the team to two Chinese FA Cup titles in the 1996 and then 1997 league seasons. He has also managed several other teams such as Tibet, Tianjin Teda and China on a caretaker basis, while his last senior coaching position was with Beijing Institute of Technology FC.\n",
      "Synthetic Query: What was the Celsius scale based on prior to 1743?\n",
      "Answer: causing the fish that are vital to the village's economy to migrate\n",
      "--------------------------------------------------\n",
      "Document 2: South Korean won\n",
      "Synthetic Query: Was the South Korean team competing with the US?\n",
      "Answer: no\n",
      "--------------------------------------------------\n",
      "Document 3: In writing \"The Empire Strikes Back\", Lucas initially decided that Lando Calrissian was a clone and came from a planet of clones which caused the \"Clone Wars\" mentioned by Obi-Wan Kenobi in \"A New Hope\"; he later came up with an alternate concept of an army of clone shocktroopers from a remote planet which were used by the Republic as an army in the war that followed.\n",
      "Synthetic Query: Who did Lucas initially decide was a clone?\n",
      "Answer: Arthur Chung\n",
      "--------------------------------------------------\n",
      "Document 4: The first Old World equid fossil was found in the gypsum quarries in Montmartre, Paris, in the 1820s. The tooth was sent to the Paris Conservatory, where it was identified by Georges Cuvier, who identified it as a browsing equine related to the tapir. His sketch of the entire animal matched later skeletons found at the site.\n",
      "Synthetic Query: What was the name of the person who identified the tooth?\n",
      "Answer: Georges Cuvier\n",
      "--------------------------------------------------\n",
      "Document 5: South Korean won\n",
      "Synthetic Query: What is the outcome of the game?\n",
      "Answer: South Korean won\n",
      "--------------------------------------------------\n",
      "None\n"
     ]
    }
   ],
   "source": [
    "from ARES.ares.ares import ARES\n",
    "\n",
    "synth_config = { \n",
    "    \"document_filepath\": \"datasets_v2/nq/ratio_0.5_reformatted_full_articles_False_validation_with_negatives.tsv\",\n",
    "    \"few_shot_prompt_filename\": \"datasets/multirc_few_shot_prompt_for_synthetic_query_generation_v1.tsv\",\n",
    "    \"synthetic_queries_filename\": \"output/synthetic_queries_1.tsv\",\n",
    "    \"documents_sampled\": 100\n",
    "}\n",
    "\n",
    "ares = ARES(synthetic_query_generator=synth_config)\n",
    "results = ares.generate_synthetic_data()\n",
    "print(results)"
   ]
  },
  {
   "cell_type": "markdown",
   "metadata": {},
   "source": [
    "### Classifier"
   ]
  },
  {
   "cell_type": "code",
   "execution_count": null,
   "metadata": {},
   "outputs": [],
   "source": [
    "from ARES.ares.ares import ARES\n",
    "\n",
    "classifier_config = {\n",
    "    \"classification_dataset\": \"output/synthetic_queries_1.tsv\", \n",
    "    \"test_set_selection\": \"/future/u/manihani/ARES/datasets_v2/nq/ratio_0.6_reformatted_full_articles_False_validation_with_negatives.tsv\", \n",
    "    \"label_column\": \"Context_Relevance_Label\", \n",
    "    \"num_epochs\": 10, \n",
    "    \"patience_value\": 1, \n",
    "    \"learning_rate\": 5e-6\n",
    "}\n",
    "\n",
    "ares = ARES(classifier_model=classifier_config)\n",
    "results = ares.train_classifier()\n",
    "print(results)"
   ]
  },
  {
   "cell_type": "code",
   "execution_count": null,
   "metadata": {},
   "outputs": [],
   "source": [
    "from ARES.ares.ares import ARES\n",
    "import torch\n",
    "\n",
    "ppi_config = { \n",
    "    \"evaluation_datasets\": ['datasets_v2/nq/ratio_0.525_reformatted_full_articles_False_validation_with_negatives.tsv'], \n",
    "    \"few_shot_examples_filepath\": \"datasets/multirc_few_shot_prompt_for_synthetic_query_generation_v1.tsv\",\n",
    "    \"checkpoints\": [\"/future/u/manihani/ARES/checkpoints/microsoft-deberta-v3-large/output-synthetic_queries_1.tsv/5e-06_1_True_Context_Relevance_Label_ratio_0.6_reformatted_full_articles_False_validation_with_negatives_428380.pt\"],\n",
    "    \"labels\": [\"Context_Relevance_Label\", \"Answer_Faithfulness_Label\", \"Answer_Relevance_Label\"], \n",
    "    \"GPT_scoring\": False, \n",
    "    \"gold_label_path\": \"datasets_v2/nq/ratio_0.7_reformatted_full_articles_False_validation_with_negatives.tsv\", \n",
    "    \"swap_human_labels_for_gpt4_labels\": False\n",
    "}\n",
    "\n",
    "ares = ARES(ppi=ppi_config)\n",
    "results = ares.evaluate_RAG()\n",
    "print(results)"
   ]
  }
 ],
 "metadata": {
  "kernelspec": {
   "display_name": "llm_judge",
   "language": "python",
   "name": "python3"
  },
  "language_info": {
   "codemirror_mode": {
    "name": "ipython",
    "version": 3
   },
   "file_extension": ".py",
   "mimetype": "text/x-python",
   "name": "python",
   "nbconvert_exporter": "python",
   "pygments_lexer": "ipython3",
   "version": "3.1.0"
  }
 },
 "nbformat": 4,
 "nbformat_minor": 2
}
